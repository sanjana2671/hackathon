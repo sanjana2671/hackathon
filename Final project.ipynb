{
 "cells": [
  {
   "cell_type": "code",
   "execution_count": 1,
   "metadata": {},
   "outputs": [],
   "source": [
    "import cv2\n",
    "    \n",
    "import sys\n",
    "import spotipy\n",
    "import spotipy.util as util\n",
    "\n",
    "import random\n",
    "import numpy as np\n",
    "from datetime import datetime, timedelta\n",
    "\n",
    "from deepface import DeepFace\n",
    "def mood_predict():\n",
    "    \n",
    "    facecascade=cv2.CascadeClassifier(cv2.data.haarcascades +'haarcascade_frontalface_default.xml')\n",
    "    \n",
    "    cap=cv2.VideoCapture(1)\n",
    "    if not cap.isOpened():\n",
    "        cap=cv2.VideoCapture(0)\n",
    "    if not cap.isOpened():\n",
    "        raise IOError('Cannot open webcam')\n",
    "    \n",
    "    end_time = datetime.now() + timedelta(seconds=10)\n",
    "        \n",
    "    while (datetime.now() < end_time):\n",
    "        ret,frame=cap.read()\n",
    "        \n",
    "        result=DeepFace.analyze(frame,actions=['emotion'])\n",
    "        \n",
    "        gray= cv2.cvtColor(frame,cv2.COLOR_BGR2GRAY)\n",
    "        \n",
    "        faces=facecascade.detectMultiScale(gray,1.1,4)\n",
    "        \n",
    "        for (x,y,w,h) in faces:\n",
    "            cv2.rectangle(frame,(x,y),(x+w,y+h),(0,255,0),2)\n",
    "        \n",
    "        font=cv2.FONT_HERSHEY_SIMPLEX\n",
    "    \n",
    "        cv2.putText(frame,result['dominant_emotion'],(100,100),font,5,(0,0,255),2,cv2.LINE_4)\n",
    "        \n",
    "        cv2.imshow(\"original\",frame)\n",
    "        \n",
    "        if cv2.waitKey(2) & 0xFF== ord('\\n'):\n",
    "            break\n",
    "            \n",
    "    cap.release()\n",
    "    cv2.waitKey(0)\n",
    "    cv2.destroyAllWindows()\n",
    "    \n",
    "    print( result['dominant_emotion'])\n",
    "    return( result['dominant_emotion'])\n",
    "def select_tracks(emotion):\n",
    "    if(emotion=='happy'):\n",
    "        x=sp.recommendations( seed_genres=['happy'],  limit=1, country=None)\n",
    "        #print(x)\n",
    "        for i in range (1):\n",
    "            y=x['tracks'][i]['album']['external_urls']['spotify']\n",
    "            z=sp.album_tracks(y, limit=1)\n",
    "            album_id = x['tracks'][0]['album']['id']\n",
    "            return(y,album_id)\n",
    "            print(y)\n",
    "    elif(emotion=='sad'):\n",
    "        x=sp.recommendations( seed_genres=['romance'],  limit=1, country=None)\n",
    "        for i in range (1):\n",
    "            y=x['tracks'][i]['album']['external_urls']['spotify']\n",
    "            z=sp.album_tracks(y, limit=1)\n",
    "            album_id = x['tracks'][0]['album']['id']\n",
    "            return(y,album_id)\n",
    "            print(y)\n",
    "    elif(emotion=='neutral'):\n",
    "        x=sp.recommendations( seed_genres=['work-out'],  limit=1, country=None)\n",
    "        for i in range (1):\n",
    "            y=x['tracks'][i]['album']['external_urls']['spotify']\n",
    "            z=sp.album_tracks(y, limit=1)\n",
    "            album_id = x['tracks'][0]['album']['id']\n",
    "            return(y,album_id)\n",
    "            print(y)\n",
    "    elif(emotion=='angry'):\n",
    "        x=sp.recommendations( seed_genres=[ 'acoustic'],  limit=1, country=None)\n",
    "        for i in range (1):\n",
    "            y=x['tracks'][i]['album']['external_urls']['spotify']\n",
    "            z=sp.album_tracks(y, limit=1)\n",
    "            album_id = x['tracks'][0]['album']['id']\n",
    "            return(y,album_id)\n",
    "            print(y)\n",
    "    elif(emotion=='fear'):\n",
    "        x=sp.recommendations( seed_genres=['soul'],  limit=1, country=None)\n",
    "        for i in range (1):\n",
    "            y=x['tracks'][i]['album']['external_urls']['spotify']\n",
    "            z=sp.album_tracks(y, limit=1)\n",
    "            album_id = x['tracks'][0]['album']['id']\n",
    "            return(y,album_id)\n",
    "            print(y)\n",
    "    elif(emotion=='surprise'):\n",
    "        x=sp.recommendations( seed_genres=['indian'],  limit=1, country=None)\n",
    "        for i in range (1):\n",
    "            y=x['tracks'][i]['album']['external_urls']['spotify']\n",
    "            z=sp.album_tracks(y, limit=1)\n",
    "            album_id = x['tracks'][0]['album']['id']\n",
    "            return(y,album_id)\n",
    "            print(y)"
   ]
  },
  {
   "cell_type": "code",
   "execution_count": 2,
   "metadata": {},
   "outputs": [],
   "source": [
    "client_id = \"096258847d774525be3f933cb786cd14\"\n",
    "client_secret = \"7e74614aaaa244119c5d3619ea3d5a70\"\n",
    "redirect_uri = \"http://localhost:8861/callback\"\n",
    "\n",
    "scope = 'user-library-read user-top-read playlist-modify-public user-follow-read'\n",
    "\n",
    "username = \"ABD VK\"\n",
    "token = util.prompt_for_user_token(username, scope, client_id, client_secret, redirect_uri)\n",
    "\n",
    "\n",
    "sp = spotipy.Spotify(auth=token)\n",
    "#return sp"
   ]
  },
  {
   "cell_type": "code",
   "execution_count": 3,
   "metadata": {},
   "outputs": [
    {
     "name": "stdout",
     "output_type": "stream",
     "text": [
      "WARNING:tensorflow:5 out of the last 15 calls to <function Model.make_predict_function.<locals>.predict_function at 0x0000022C16FC94C0> triggered tf.function retracing. Tracing is expensive and the excessive number of tracings could be due to (1) creating @tf.function repeatedly in a loop, (2) passing tensors with different shapes, (3) passing Python objects instead of tensors. For (1), please define your @tf.function outside of the loop. For (2), @tf.function has experimental_relax_shapes=True option that relaxes argument shapes that can avoid unnecessary retracing. For (3), please refer to https://www.tensorflow.org/guide/function#controlling_retracing and https://www.tensorflow.org/api_docs/python/tf/function for  more details.\n",
      "WARNING:tensorflow:5 out of the last 13 calls to <function Model.make_predict_function.<locals>.predict_function at 0x0000022C1003A550> triggered tf.function retracing. Tracing is expensive and the excessive number of tracings could be due to (1) creating @tf.function repeatedly in a loop, (2) passing tensors with different shapes, (3) passing Python objects instead of tensors. For (1), please define your @tf.function outside of the loop. For (2), @tf.function has experimental_relax_shapes=True option that relaxes argument shapes that can avoid unnecessary retracing. For (3), please refer to https://www.tensorflow.org/guide/function#controlling_retracing and https://www.tensorflow.org/api_docs/python/tf/function for  more details.\n",
      "happy\n"
     ]
    }
   ],
   "source": [
    "emotion= mood_predict()"
   ]
  },
  {
   "cell_type": "code",
   "execution_count": 6,
   "metadata": {},
   "outputs": [],
   "source": [
    "a,album_id = select_tracks('fear')\n",
    "tracks=sp.album_tracks(album_id)\n",
    "track=tracks['items']\n",
    "song=[]\n",
    "\n",
    "for track in tracks['items']:\n",
    "    song.append(track['external_urls']['spotify'])\n",
    "#print(song)\n",
    "leng=len(song)\n",
    "from numpy import random\n",
    "num=random.randint(leng)\n",
    "hack=song[num]\n"
   ]
  },
  {
   "cell_type": "code",
   "execution_count": 7,
   "metadata": {},
   "outputs": [
    {
     "data": {
      "text/plain": [
       "True"
      ]
     },
     "execution_count": 7,
     "metadata": {},
     "output_type": "execute_result"
    }
   ],
   "source": [
    "import webbrowser\n",
    "webbrowser.open(hack)"
   ]
  },
  {
   "cell_type": "code",
   "execution_count": null,
   "metadata": {},
   "outputs": [],
   "source": []
  }
 ],
 "metadata": {
  "kernelspec": {
   "display_name": "Python 3",
   "language": "python",
   "name": "python3"
  },
  "language_info": {
   "codemirror_mode": {
    "name": "ipython",
    "version": 3
   },
   "file_extension": ".py",
   "mimetype": "text/x-python",
   "name": "python",
   "nbconvert_exporter": "python",
   "pygments_lexer": "ipython3",
   "version": "3.8.5"
  }
 },
 "nbformat": 4,
 "nbformat_minor": 4
}
